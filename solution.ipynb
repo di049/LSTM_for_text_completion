{
 "cells": [
  {
   "cell_type": "code",
   "execution_count": null,
   "id": "0dcf2ec4",
   "metadata": {},
   "outputs": [
    {
     "name": "stderr",
     "output_type": "stream",
     "text": [
      "c:\\Users\\PM95Y\\source\\YP_sprint_2_project\\.venv\\Lib\\site-packages\\tqdm\\auto.py:21: TqdmWarning: IProgress not found. Please update jupyter and ipywidgets. See https://ipywidgets.readthedocs.io/en/stable/user_install.html\n",
      "  from .autonotebook import tqdm as notebook_tqdm\n"
     ]
    }
   ],
   "source": [
    "from src.data_utils import make_clean_data, tokenize_data, train_test_val_split\n",
    "from src.next_token_dataset import TweetsDataset\n",
    "from src.eval_transformer_pipeline import evaluate_pipeline\n",
    "from src.lstm_model import LSTM\n",
    "from src.lstm_train import lstm_train\n",
    "from transformers import AutoTokenizer, AutoModelForCausalLM, pipeline\n",
    "import torch\n",
    "from torch.utils.data import DataLoader"
   ]
  },
  {
   "cell_type": "markdown",
   "id": "55ce66ea",
   "metadata": {},
   "source": [
    "# LSTM"
   ]
  },
  {
   "cell_type": "code",
   "execution_count": 2,
   "id": "f9ac6213",
   "metadata": {},
   "outputs": [],
   "source": [
    "make_clean_data('data/tweets.txt')"
   ]
  },
  {
   "cell_type": "code",
   "execution_count": 3,
   "id": "c21a2faa",
   "metadata": {},
   "outputs": [],
   "source": [
    "tokenize_data('data/tweets_processed.txt')"
   ]
  },
  {
   "cell_type": "code",
   "execution_count": 50,
   "id": "25ecc985",
   "metadata": {},
   "outputs": [],
   "source": [
    "train, test, val = train_test_val_split()"
   ]
  },
  {
   "cell_type": "code",
   "execution_count": 51,
   "id": "e0396de3",
   "metadata": {},
   "outputs": [],
   "source": [
    "max_len = 128\n",
    "train_ds = TweetsDataset(train[:10000], max_len)\n",
    "test_ds = TweetsDataset(test[:200], max_len)\n",
    "val_ds = TweetsDataset(val[:200], max_len)\n",
    "\n",
    "train_dl = DataLoader(train_ds, batch_size=32, shuffle=False)\n",
    "test_dl = DataLoader(test_ds, batch_size=32, shuffle=False)\n",
    "val_dl = DataLoader(val_ds, batch_size=32, shuffle=False)"
   ]
  },
  {
   "cell_type": "code",
   "execution_count": 2,
   "id": "1cfe98f4",
   "metadata": {},
   "outputs": [],
   "source": [
    "tokenizer = AutoTokenizer.from_pretrained('distilbert/distilgpt2')\n",
    "vocab_size = tokenizer.vocab_size"
   ]
  },
  {
   "cell_type": "code",
   "execution_count": null,
   "id": "6ebeb6ff",
   "metadata": {},
   "outputs": [
    {
     "name": "stderr",
     "output_type": "stream",
     "text": [
      "  0%|          | 0/10 [00:00<?, ?it/s]c:\\Users\\PM95Y\\source\\YP_sprint_2_project\\src\\data_utils.py:122: UserWarning: To copy construct from a tensor, it is recommended to use sourceTensor.detach().clone() or sourceTensor.detach().clone().requires_grad_(True), rather than torch.tensor(sourceTensor).\n",
      "  return torch.tensor(x), torch.tensor(y)\n",
      " 10%|█         | 1/10 [00:56<08:27, 56.36s/it]"
     ]
    },
    {
     "name": "stdout",
     "output_type": "stream",
     "text": [
      "Epoch 1 | Train Loss: 1.1809 | Val Loss: 0.896 | Val Accuracy: 88.13% | ROUGE-1 SCORE: 7.02% | ROUGE-2 SCORE: 0.00%\n"
     ]
    },
    {
     "name": "stderr",
     "output_type": "stream",
     "text": [
      " 20%|██        | 2/10 [01:54<07:37, 57.14s/it]"
     ]
    },
    {
     "name": "stdout",
     "output_type": "stream",
     "text": [
      "Epoch 2 | Train Loss: 0.8161 | Val Loss: 0.866 | Val Accuracy: 88.45% | ROUGE-1 SCORE: 16.96% | ROUGE-2 SCORE: 0.81%\n"
     ]
    },
    {
     "name": "stderr",
     "output_type": "stream",
     "text": [
      " 30%|███       | 3/10 [02:51<06:42, 57.51s/it]"
     ]
    },
    {
     "name": "stdout",
     "output_type": "stream",
     "text": [
      "Epoch 3 | Train Loss: 0.7794 | Val Loss: 0.840 | Val Accuracy: 88.67% | ROUGE-1 SCORE: 19.22% | ROUGE-2 SCORE: 1.59%\n"
     ]
    },
    {
     "name": "stderr",
     "output_type": "stream",
     "text": [
      " 40%|████      | 4/10 [03:49<05:46, 57.70s/it]"
     ]
    },
    {
     "name": "stdout",
     "output_type": "stream",
     "text": [
      "Epoch 4 | Train Loss: 0.7487 | Val Loss: 0.824 | Val Accuracy: 88.77% | ROUGE-1 SCORE: 22.25% | ROUGE-2 SCORE: 1.90%\n"
     ]
    },
    {
     "name": "stderr",
     "output_type": "stream",
     "text": [
      " 50%|█████     | 5/10 [04:46<04:46, 57.25s/it]"
     ]
    },
    {
     "name": "stdout",
     "output_type": "stream",
     "text": [
      "Epoch 5 | Train Loss: 0.7226 | Val Loss: 0.814 | Val Accuracy: 88.84% | ROUGE-1 SCORE: 23.72% | ROUGE-2 SCORE: 2.08%\n"
     ]
    },
    {
     "name": "stderr",
     "output_type": "stream",
     "text": [
      " 60%|██████    | 6/10 [05:44<03:49, 57.50s/it]"
     ]
    },
    {
     "name": "stdout",
     "output_type": "stream",
     "text": [
      "Epoch 6 | Train Loss: 0.6982 | Val Loss: 0.806 | Val Accuracy: 88.92% | ROUGE-1 SCORE: 26.65% | ROUGE-2 SCORE: 2.52%\n"
     ]
    },
    {
     "name": "stderr",
     "output_type": "stream",
     "text": [
      " 70%|███████   | 7/10 [06:42<02:52, 57.58s/it]"
     ]
    },
    {
     "name": "stdout",
     "output_type": "stream",
     "text": [
      "Epoch 7 | Train Loss: 0.6734 | Val Loss: 0.805 | Val Accuracy: 89.00% | ROUGE-1 SCORE: 27.90% | ROUGE-2 SCORE: 2.81%\n"
     ]
    },
    {
     "name": "stderr",
     "output_type": "stream",
     "text": [
      " 80%|████████  | 8/10 [07:39<01:54, 57.35s/it]"
     ]
    },
    {
     "name": "stdout",
     "output_type": "stream",
     "text": [
      "Epoch 8 | Train Loss: 0.6489 | Val Loss: 0.803 | Val Accuracy: 89.05% | ROUGE-1 SCORE: 29.52% | ROUGE-2 SCORE: 2.85%\n"
     ]
    },
    {
     "name": "stderr",
     "output_type": "stream",
     "text": [
      " 90%|█████████ | 9/10 [08:36<00:57, 57.26s/it]"
     ]
    },
    {
     "name": "stdout",
     "output_type": "stream",
     "text": [
      "Epoch 9 | Train Loss: 0.6250 | Val Loss: 0.800 | Val Accuracy: 88.99% | ROUGE-1 SCORE: 29.96% | ROUGE-2 SCORE: 3.08%\n"
     ]
    },
    {
     "name": "stderr",
     "output_type": "stream",
     "text": [
      "100%|██████████| 10/10 [09:33<00:00, 57.38s/it]"
     ]
    },
    {
     "name": "stdout",
     "output_type": "stream",
     "text": [
      "Epoch 10 | Train Loss: 0.6007 | Val Loss: 0.803 | Val Accuracy: 88.98% | ROUGE-1 SCORE: 30.64% | ROUGE-2 SCORE: 3.53%\n"
     ]
    },
    {
     "name": "stderr",
     "output_type": "stream",
     "text": [
      "\n"
     ]
    }
   ],
   "source": [
    "model = LSTM(vocab_size)\n",
    "\n",
    "lstm_train(model, train_dl, val_dl)"
   ]
  },
  {
   "cell_type": "code",
   "execution_count": 16,
   "id": "2d926b79",
   "metadata": {},
   "outputs": [
    {
     "data": {
      "text/plain": [
       "' i had to go to bed i m not a'"
      ]
     },
     "execution_count": 16,
     "metadata": {},
     "output_type": "execute_result"
    }
   ],
   "source": [
    "tokenizer.decode(model.generate(tokenizer.encode('hi what'), 10))"
   ]
  },
  {
   "cell_type": "code",
   "execution_count": 15,
   "id": "ab9c576f",
   "metadata": {},
   "outputs": [],
   "source": [
    "torch.save(model.state_dict(), 'models/lstm_model')"
   ]
  },
  {
   "cell_type": "markdown",
   "id": "188e9413",
   "metadata": {},
   "source": [
    "# Transformers pipeline"
   ]
  },
  {
   "cell_type": "code",
   "execution_count": null,
   "id": "05376531",
   "metadata": {},
   "outputs": [],
   "source": [
    "pretrained_model = AutoModelForCausalLM.from_pretrained('../repos/distilgpt2').to('cuda')\n",
    "generator = pipeline(\"text-generation\", model=pretrained_model, tokenizer=tokenizer)"
   ]
  },
  {
   "cell_type": "code",
   "execution_count": null,
   "id": "0d82223f",
   "metadata": {},
   "outputs": [],
   "source": [
    "results, rouge = evaluate_pipeline(generator)"
   ]
  },
  {
   "cell_type": "code",
   "execution_count": 13,
   "id": "bb383b56",
   "metadata": {},
   "outputs": [
    {
     "data": {
      "text/plain": [
       "['sampleThe following steps are needed to enable the use of the API.',\n",
       " \"sample, I don't want to be a part of the problem. It's just a matter of time\",\n",
       " 'sampleThe basic information provided by the authors is as follows:\\n\\n\\n',\n",
       " 'sample the following.\\n\\nThe following is',\n",
       " 'sample\" : \"I want to ask you what you are saying about me. I']"
      ]
     },
     "execution_count": 13,
     "metadata": {},
     "output_type": "execute_result"
    }
   ],
   "source": [
    "results[0:5]"
   ]
  },
  {
   "cell_type": "code",
   "execution_count": null,
   "id": "18008da3",
   "metadata": {},
   "outputs": [
    {
     "name": "stdout",
     "output_type": "stream",
     "text": [
      "{'rouge1': np.float64(0.039633381636651664), 'rouge2': np.float64(0.0012389934628330677), 'rougeL': np.float64(0.03606547663266661), 'rougeLsum': np.float64(0.036081814541972346)}\n"
     ]
    }
   ],
   "source": [
    "print(rouge)"
   ]
  },
  {
   "cell_type": "markdown",
   "id": "b338ffb1",
   "metadata": {},
   "source": []
  }
 ],
 "metadata": {
  "kernelspec": {
   "display_name": ".venv (3.12.2)",
   "language": "python",
   "name": "python3"
  },
  "language_info": {
   "codemirror_mode": {
    "name": "ipython",
    "version": 3
   },
   "file_extension": ".py",
   "mimetype": "text/x-python",
   "name": "python",
   "nbconvert_exporter": "python",
   "pygments_lexer": "ipython3",
   "version": "3.12.2"
  }
 },
 "nbformat": 4,
 "nbformat_minor": 5
}
